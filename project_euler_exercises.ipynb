{
 "cells": [
  {
   "cell_type": "markdown",
   "metadata": {},
   "source": [
    "### I'll use this notebook to do the exercises. It's 841 exercises in total, and having 841 .py archives is not a good idea..."
   ]
  },
  {
   "cell_type": "code",
   "execution_count": 12,
   "metadata": {},
   "outputs": [
    {
     "name": "stdout",
     "output_type": "stream",
     "text": [
      "Number of Sunday 1st days is 173\n"
     ]
    }
   ],
   "source": [
    "# Counting sundays\n",
    "from datetime import date\n",
    "\n",
    "date1 = date(1901, 1, 1)\n",
    "date2 = date(2000, 12, 31)\n",
    "\n",
    "date1_ord = date1.toordinal() # returns the proleptic gregorian ordinal of a date\n",
    "date2_ord = date2.toordinal() # this represents the number of days since January 1, 1 AD\n",
    "cnt = 0\n",
    "\n",
    "for d_ord in range(date1_ord, date2_ord):\n",
    "    d = date.fromordinal(d_ord)\n",
    "    if (d.weekday() == 6) and (d.day == 1): # 6 represents Sundays\n",
    "        cnt += 1\n",
    "        \n",
    "print(f\"Number of Sunday 1st days is {cnt}\")"
   ]
  },
  {
   "cell_type": "code",
   "execution_count": 36,
   "metadata": {},
   "outputs": [
    {
     "name": "stdout",
     "output_type": "stream",
     "text": [
      "The number of days that I am alive is 7896\n"
     ]
    }
   ],
   "source": [
    "# Calculate how many days I'm alive\n",
    "from datetime import date\n",
    "\n",
    "date_birth = date(2002, 1, 4)\n",
    "date_now = date.today()\n",
    "\n",
    "date_birth_ord = date_birth.toordinal()\n",
    "date_now_ord = date_now.toordinal()\n",
    "\n",
    "final = date_now_ord - date_birth_ord\n",
    "print(f\"The number of days that I am alive is {final}\")"
   ]
  },
  {
   "cell_type": "code",
   "execution_count": 19,
   "metadata": {},
   "outputs": [
    {
     "name": "stdout",
     "output_type": "stream",
     "text": [
      "137846528820.0\n"
     ]
    }
   ],
   "source": [
    "# Lattice Paths\n",
    "import math\n",
    "\n",
    "n = 20\n",
    "routes = math.factorial(2*n) / (math.factorial(n) * math.factorial(n))\n",
    "print(routes)"
   ]
  },
  {
   "cell_type": "code",
   "execution_count": 33,
   "metadata": {},
   "outputs": [
    {
     "name": "stdout",
     "output_type": "stream",
     "text": [
      "Number with the longest Collatz sequence: 837799\n",
      "Length of the longest Collatz sequence: 525\n"
     ]
    }
   ],
   "source": [
    "# Longest Collatz Sequence\n",
    "def collatz_sequence_length(n):\n",
    "    count = 1\n",
    "    while n > 1:\n",
    "        if n % 2 == 0:\n",
    "            n = n // 2\n",
    "        else:\n",
    "            n = 3 * n + 1\n",
    "        count += 1\n",
    "    return count\n",
    "\n",
    "max_length = 0\n",
    "number_with_longest_sequence = 0\n",
    "\n",
    "for number in range(1, 1000000):\n",
    "    length = collatz_sequence_length(number)\n",
    "    if length > max_length:\n",
    "        max_length = length\n",
    "        number_with_longest_sequence = number \n",
    "\n",
    "print(\"Number with the longest Collatz sequence:\", number_with_longest_sequence)\n",
    "print(\"Length of the longest Collatz sequence:\", max_length)"
   ]
  },
  {
   "cell_type": "code",
   "execution_count": 33,
   "metadata": {},
   "outputs": [
    {
     "name": "stdout",
     "output_type": "stream",
     "text": [
      "The 10001st prime number is 104759\n"
     ]
    }
   ],
   "source": [
    "# 10001st Prime\n",
    "\n",
    "def is_prime(n):\n",
    "    '''\n",
    "    Print's if any given number is prime or not\n",
    "    '''\n",
    "    if n <= 1:\n",
    "        return False\n",
    "    for i in range(2, int( n ** 0.5 ) + 1):\n",
    "        if n % i == 0:\n",
    "            return False\n",
    "    return True\n",
    "\n",
    "\n",
    "primes = []\n",
    "\n",
    "for num in range(1, 500_000):\n",
    "    if is_prime(num):\n",
    "        primes.append(num)\n",
    "    \n",
    "print(f\"The 10001st prime number is {primes[10001]}\")\n",
    "        "
   ]
  },
  {
   "cell_type": "code",
   "execution_count": 38,
   "metadata": {},
   "outputs": [
    {
     "name": "stdout",
     "output_type": "stream",
     "text": [
      "142913828922\n"
     ]
    }
   ],
   "source": [
    "# Summation of Primes\n",
    "prume = []\n",
    "for num in range(1, 2_000_000):\n",
    "    if is_prime(num):\n",
    "        prume.append(num)\n",
    "        \n",
    "print(sum(prume))\n",
    "        "
   ]
  },
  {
   "cell_type": "code",
   "execution_count": 119,
   "metadata": {},
   "outputs": [
    {
     "name": "stdout",
     "output_type": "stream",
     "text": [
      "The value of the first triangle number to have over 500 divisors is: 76576500\n"
     ]
    }
   ],
   "source": [
    "# Highly Divisible Triangular Number\n",
    "from collections import Counter\n",
    "\n",
    "def prime_factorization(n):\n",
    "    factors = []\n",
    "    i = 2\n",
    "    while i * i <= n:\n",
    "        if n % i:\n",
    "            i += 1\n",
    "        else:\n",
    "            n //= i\n",
    "            factors.append(i)\n",
    "    if n > 1:\n",
    "        factors.append(n)\n",
    "    return factors\n",
    "\n",
    "def count_divisors(n):\n",
    "    factors = prime_factorization(n)\n",
    "    count = 1\n",
    "    for _, exp in Counter(factors).items():\n",
    "        count *= exp + 1\n",
    "    return count\n",
    "\n",
    "target_divisors = 500\n",
    "triangle_number = 1\n",
    "increment = 2\n",
    "\n",
    "while count_divisors(triangle_number) <= target_divisors:\n",
    "    triangle_number += increment\n",
    "    increment += 1\n",
    "\n",
    "print(f\"The value of the first triangle number to have over {target_divisors} divisors is: {triangle_number}\")"
   ]
  },
  {
   "cell_type": "code",
   "execution_count": 127,
   "metadata": {},
   "outputs": [
    {
     "name": "stdout",
     "output_type": "stream",
     "text": [
      "21124\n"
     ]
    }
   ],
   "source": [
    "# Counting number letters\n",
    "\n",
    "def convert_to_word(number):\n",
    "    # Define word representations for numbers up to 20\n",
    "    num_words = {\n",
    "        0: '', 1: 'one', 2: 'two', 3: 'three', 4: 'four', 5: 'five', 6: 'six',\n",
    "        7: 'seven', 8: 'eight', 9: 'nine', 10: 'ten', 11: 'eleven', 12: 'twelve',\n",
    "        13: 'thirteen', 14: 'fourteen', 15: 'fifteen', 16: 'sixteen', 17: 'seventeen',\n",
    "        18: 'eighteen', 19: 'nineteen'\n",
    "    }\n",
    "\n",
    "    # Define word representations for tens\n",
    "    tens_words = {\n",
    "        2: 'twenty', 3: 'thirty', 4: 'forty', 5: 'fifty', 6: 'sixty',\n",
    "        7: 'seventy', 8: 'eighty', 9: 'ninety'\n",
    "    }\n",
    "\n",
    "    if number == 1000:\n",
    "        return 'one thousand'\n",
    "    elif number < 20:\n",
    "        return num_words[number]\n",
    "    elif number < 100:\n",
    "        tens = number // 10\n",
    "        ones = number % 10\n",
    "        return tens_words[tens] + ' ' + num_words[ones] if ones != 0 else tens_words[tens]\n",
    "    else:\n",
    "        hundreds = number // 100\n",
    "        remainder = number % 100\n",
    "        if remainder != 0:\n",
    "            return num_words[hundreds] + ' hundred and ' + convert_to_word(remainder)\n",
    "        else:\n",
    "            return num_words[hundreds] + ' hundred'\n",
    "\n",
    "\n",
    "def count_letters(word):\n",
    "    # Remove spaces and hyphens from the word\n",
    "    word = word.replace(' ', '').replace('-', '')\n",
    "    return len(word)\n",
    "\n",
    "\n",
    "total_letters = 0\n",
    "\n",
    "for number in range(1, 1001):\n",
    "    word = convert_to_word(number)\n",
    "    letter_count = count_letters(word)\n",
    "    total_letters += letter_count\n",
    "\n",
    "print(total_letters)"
   ]
  },
  {
   "cell_type": "code",
   "execution_count": 27,
   "metadata": {},
   "outputs": [
    {
     "name": "stdout",
     "output_type": "stream",
     "text": [
      "648\n"
     ]
    }
   ],
   "source": [
    "# 20 - Factorial Digit Sum\n",
    "from math import factorial\n",
    "\n",
    "factor = factorial(100)\n",
    "soma = sum(int(char) for char in str(factor))\n",
    "print(soma)"
   ]
  },
  {
   "cell_type": "code",
   "execution_count": 31,
   "metadata": {},
   "outputs": [
    {
     "data": {
      "text/plain": [
       "[1, 2, 4, 7, 14, 28]"
      ]
     },
     "execution_count": 31,
     "metadata": {},
     "output_type": "execute_result"
    }
   ],
   "source": [
    "def calculate_divisors(number):\n",
    "    divisors = []\n",
    "    for i in range(1, number + 1):\n",
    "        if number % i == 0:\n",
    "            divisors.append(i)\n",
    "    return divisors\n",
    "\n",
    "calculate_divisors(28)"
   ]
  },
  {
   "cell_type": "code",
   "execution_count": 17,
   "metadata": {},
   "outputs": [
    {
     "name": "stdout",
     "output_type": "stream",
     "text": [
      "2783915460\n"
     ]
    }
   ],
   "source": [
    "# 24 - Lexicographic Permutations\n",
    "import math\n",
    "\n",
    "def find_lexicographic_permutation(n):\n",
    "    digits = list(range(10))\n",
    "    result = []\n",
    "\n",
    "    n -= 1  # Adjust for 0-based indexing\n",
    "    for i in range(9, -1, -1):\n",
    "        index = n // math.factorial(i)\n",
    "        result.append(digits[index])\n",
    "        digits.pop(index)\n",
    "        n %= math.factorial(i)\n",
    "\n",
    "    return ''.join(map(str, result))\n",
    "\n",
    "millionth_permutation = find_lexicographic_permutation(1000000)\n",
    "print(millionth_permutation)\n"
   ]
  }
 ],
 "metadata": {
  "kernelspec": {
   "display_name": "base",
   "language": "python",
   "name": "python3"
  },
  "language_info": {
   "codemirror_mode": {
    "name": "ipython",
    "version": 3
   },
   "file_extension": ".py",
   "mimetype": "text/x-python",
   "name": "python",
   "nbconvert_exporter": "python",
   "pygments_lexer": "ipython3",
   "version": "3.11.4"
  },
  "orig_nbformat": 4
 },
 "nbformat": 4,
 "nbformat_minor": 2
}
